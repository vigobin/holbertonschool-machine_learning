{
  "nbformat": 4,
  "nbformat_minor": 0,
  "metadata": {
    "colab": {
      "provenance": []
    },
    "kernelspec": {
      "name": "python3",
      "display_name": "Python 3"
    },
    "language_info": {
      "name": "python"
    }
  },
  "cells": [
    {
      "cell_type": "code",
      "source": [
        "from gensim.models import Word2Vec"
      ],
      "metadata": {
        "id": "tYkudy2gk4ir"
      },
      "execution_count": 1,
      "outputs": []
    },
    {
      "cell_type": "code",
      "execution_count": 6,
      "metadata": {
        "id": "SS2Hl03Vkp9a"
      },
      "outputs": [],
      "source": [
        "\"\"\"Train Word2Vec\"\"\"\n",
        "\n",
        "def word2vec_model(sentences, size=100, min_count=5, window=5, negative=5,\n",
        "                   cbow=True, iterations=5, seed=0, workers=1):\n",
        "    \"\"\"Creates and trains a gensim word2vec model:\n",
        "        sentences is a list of sentences to be trained on.\n",
        "        size is the dimensionality of the embedding layer.\n",
        "        min_count is the minimum number of occurrences of a\n",
        "            word for use in training.\n",
        "        window is the maximum distance between the current\n",
        "            and predicted word within a sentence.\n",
        "        negative is the size of negative sampling.\n",
        "        cbow is a boolean to determine the training type;\n",
        "        True is for CBOW; False is for Skip-gram.\n",
        "        iterations is the number of iterations to train over.\n",
        "        seed is the seed for the random number generator.\n",
        "        workers is the number of worker threads to train the model.\n",
        "        Returns: the trained model.\"\"\"\n",
        "    sg = 0 if cbow else 1\n",
        "\n",
        "    model = Word2Vec(sentences, vector_size=size,\n",
        "                     min_count=min_count, window=window,\n",
        "                     negative=negative, sg=sg, epochs=iterations,\n",
        "                     seed=seed, workers=workers)\n",
        "\n",
        "    return model"
      ]
    },
    {
      "cell_type": "code",
      "source": [
        "from gensim.test.utils import common_texts\n",
        "# word2vec_model = __import__('2-word2vec').word2vec_model\n",
        "\n",
        "print(common_texts[:2])\n",
        "w2v = word2vec_model(common_texts, min_count=1)\n",
        "print(w2v.wv[\"computer\"])"
      ],
      "metadata": {
        "colab": {
          "base_uri": "https://localhost:8080/"
        },
        "id": "26gH3u2SlBuV",
        "outputId": "41c8527c-d562-43ec-b2c0-de06b9a67bc2"
      },
      "execution_count": 7,
      "outputs": [
        {
          "output_type": "stream",
          "name": "stdout",
          "text": [
            "[['human', 'interface', 'computer'], ['survey', 'user', 'computer', 'system', 'response', 'time']]\n",
            "[-9.17425146e-04  4.23241127e-03  5.63164940e-03  6.88221911e-03\n",
            " -6.18189573e-03  3.55597492e-03 -4.59551578e-03 -2.62356992e-03\n",
            " -2.58884183e-03  1.51444075e-03  1.76495546e-03  1.26824854e-03\n",
            " -8.70202854e-03  8.73132143e-03  7.04515446e-03 -2.24651699e-03\n",
            "  1.43263815e-03 -6.70434721e-03  2.69516581e-03  7.53865717e-03\n",
            "  8.56675580e-03  7.89457001e-03 -8.89756717e-03 -9.03468858e-03\n",
            "  4.73744608e-03 -6.03551976e-03 -6.21854421e-03  2.72567268e-03\n",
            " -8.80681351e-03  5.77690266e-03 -6.42151944e-03  2.13384978e-03\n",
            "  2.60995259e-03 -6.16821647e-03 -1.97864044e-03 -7.64716882e-03\n",
            "  9.61878430e-03  1.19452474e-04 -7.03770155e-03  6.31020777e-03\n",
            "  4.79384791e-03 -5.65865776e-03 -3.22094793e-03 -8.49734619e-03\n",
            "  1.13402959e-03  1.02089881e-03 -8.94187670e-03 -6.16365811e-03\n",
            " -9.08331887e-04 -8.65152571e-03  4.83665941e-03  5.46529191e-03\n",
            "  4.19504056e-03  6.42453181e-03  6.02116482e-03 -2.03328975e-03\n",
            " -1.01002574e-03 -4.11847373e-03 -6.59668818e-03 -4.45758225e-03\n",
            "  4.46513994e-03 -2.78057228e-03  9.93570685e-03  1.53815269e-03\n",
            "  3.30511690e-03  5.56401035e-04  5.94219938e-03 -2.89301760e-03\n",
            "  2.24568835e-03  2.74841907e-03  7.31838215e-03  3.51534854e-03\n",
            "  1.96115859e-03  1.16557837e-03 -8.90205707e-03 -2.25410215e-03\n",
            " -3.75997298e-03  2.47805472e-03 -3.68034723e-03  1.83805462e-03\n",
            " -2.93838984e-05 -3.19352397e-03  1.40311720e-04 -3.93598061e-03\n",
            " -5.67006599e-03  9.14976583e-04  9.77433193e-03  2.24683410e-03\n",
            "  2.34044436e-03  2.21596844e-03  7.64087681e-03 -2.34324089e-03\n",
            " -1.52090902e-03  1.31547812e-03  1.16942043e-03  9.71539225e-03\n",
            " -6.40195981e-03 -1.43951061e-03 -5.78432437e-03  6.86029298e-03]\n"
          ]
        }
      ]
    },
    {
      "cell_type": "code",
      "source": [
        "\"\"\"Extract Word2Vec\"\"\"\n",
        "\n",
        "from keras.layers import Embedding\n",
        "import numpy as np\n",
        "\n",
        "\n",
        "def gensim_to_keras(model):\n",
        "    \"\"\"Converts a gensim word2vec model to a keras Embedding layer.\n",
        "        model is a trained gensim word2vec models\n",
        "        Returns: the trainable keras Embedding.\"\"\"\n",
        "    vocab_size = len(model.wv.key_to_index) + 1\n",
        "    vector_size = model.vector_size\n",
        "\n",
        "    weight_matrix = np.zeros((vocab_size, vector_size))\n",
        "\n",
        "    for word, i in model.wv.key_to_index.items():\n",
        "        weight_matrix[i] = model.wv[word]\n",
        "\n",
        "    embedding_layer = Embedding(input_dim=vocab_size,\n",
        "                                output_dim=vector_size,\n",
        "                                weights=[weight_matrix],\n",
        "                                trainable=True)\n",
        "\n",
        "    return embedding_layer\n"
      ],
      "metadata": {
        "id": "J8FZ8-dcmvvZ"
      },
      "execution_count": 9,
      "outputs": []
    },
    {
      "cell_type": "code",
      "source": [
        "from gensim.test.utils import common_texts\n",
        "# word2vec_model = __import__('2-word2vec').word2vec_model\n",
        "# gensim_to_keras = __import__('3-gensim_to_keras').gensim_to_keras\n",
        "\n",
        "print(common_texts[:2])\n",
        "w2v = word2vec_model(common_texts, min_count=1)\n",
        "print(gensim_to_keras(w2v))\n"
      ],
      "metadata": {
        "colab": {
          "base_uri": "https://localhost:8080/"
        },
        "id": "sTCfIvZMm4_2",
        "outputId": "ec2e3c7a-59bc-4bec-ba7e-8a13fd5e8e95"
      },
      "execution_count": 10,
      "outputs": [
        {
          "output_type": "stream",
          "name": "stdout",
          "text": [
            "[['human', 'interface', 'computer'], ['survey', 'user', 'computer', 'system', 'response', 'time']]\n",
            "<keras.src.layers.core.embedding.Embedding object at 0x7dbfcc4a6500>\n"
          ]
        }
      ]
    },
    {
      "cell_type": "code",
      "source": [
        "\"\"\"FastText function\"\"\"\n",
        "\n",
        "from gensim.models import FastText\n",
        "\n",
        "\n",
        "def fasttext_model(sentences, size=100, min_count=5,\n",
        "                   negative=5, window=5, cbow=True, iterations=5,\n",
        "                   seed=0, workers=1):\n",
        "    \"\"\"creates and trains a genism fastText model:\n",
        "        sentences is a list of sentences to be trained on.\n",
        "        size is the dimensionality of the embedding layer.\n",
        "        min_count is the minimum number of occurrences of a word\n",
        "            for use in training.\n",
        "        window is the maximum distance between the current and predicted\n",
        "            word within a sentence.\n",
        "        negative is the size of negative sampling.\n",
        "        cbow is a boolean to determine the training type; True is for CBOW;\n",
        "            False is for Skip-gram.\n",
        "        iterations is the number of iterations to train over.\n",
        "        seed is the seed for the random number generator.\n",
        "        workers is the number of worker threads to train the model.\n",
        "        Returns: the trained model.\"\"\"\n",
        "    sg = 0 if cbow else 1\n",
        "\n",
        "    model = FastText(sentences, vector_size=size, min_count=min_count, window=window,\n",
        "                     negative=negative, sg=sg, epochs=iterations,\n",
        "                     seed=seed, workers=workers)\n",
        "\n",
        "    return model\n"
      ],
      "metadata": {
        "id": "14X3Be3bnGZn"
      },
      "execution_count": 13,
      "outputs": []
    },
    {
      "cell_type": "code",
      "source": [
        "from gensim.test.utils import common_texts\n",
        "# fasttext_model = __import__('4-fasttext').fasttext_model\n",
        "\n",
        "print(common_texts[:2])\n",
        "ft = fasttext_model(common_texts, min_count=1)\n",
        "print(ft.wv[\"computer\"])\n"
      ],
      "metadata": {
        "colab": {
          "base_uri": "https://localhost:8080/"
        },
        "id": "kWacmPQpnJ_G",
        "outputId": "995b44d2-1458-4d64-c4f5-277e9ff53b37"
      },
      "execution_count": 14,
      "outputs": [
        {
          "output_type": "stream",
          "name": "stdout",
          "text": [
            "[['human', 'interface', 'computer'], ['survey', 'user', 'computer', 'system', 'response', 'time']]\n",
            "[-4.4518875e-04  1.9057443e-04  7.1344204e-04  1.5088863e-04\n",
            "  7.3785416e-04  2.0828047e-03 -1.4264339e-03 -6.6978252e-04\n",
            " -3.9446630e-04  6.1643129e-04  3.7035978e-04 -1.7527672e-03\n",
            "  2.0829479e-05  1.0929988e-03 -6.6954875e-04  7.9767447e-04\n",
            " -9.0742309e-04  1.9187949e-03 -6.9725298e-04  3.7622583e-04\n",
            " -5.0849823e-05  1.6160590e-04 -8.3575735e-04 -1.4309353e-03\n",
            "  1.8365250e-04 -1.1365860e-03 -2.1796341e-03  3.3816829e-04\n",
            " -1.0266158e-03  1.9360909e-03  9.3765622e-05 -1.2577525e-03\n",
            "  1.7052694e-04 -1.0470246e-03  9.1582153e-04 -1.1945128e-03\n",
            "  1.2874184e-03 -3.1551000e-04 -1.1084992e-03  2.2345960e-04\n",
            "  5.9021922e-04 -5.7232735e-04  1.6017178e-04 -1.0333696e-03\n",
            " -2.6842864e-04 -1.2489735e-03 -3.4248878e-05  2.0717620e-03\n",
            "  1.0997808e-03  4.9419136e-04 -4.3252495e-04  7.6816598e-04\n",
            "  3.0231036e-04  6.4548600e-04  2.5580439e-03 -1.2883682e-04\n",
            " -3.8391326e-04 -2.1800243e-04  6.5950496e-04 -2.8844117e-04\n",
            " -7.4177544e-04 -6.5318396e-04  1.4357771e-03  1.7945657e-03\n",
            "  3.2790678e-03 -1.1300950e-03 -1.5527758e-04  4.3252096e-04\n",
            "  2.0878548e-03  5.8326498e-04 -4.1506172e-04  1.1454885e-03\n",
            " -6.3745341e-05 -2.0422263e-03 -8.0344628e-04  2.0709851e-04\n",
            " -8.6796697e-04  7.6198514e-04 -3.0726698e-04  2.1699023e-04\n",
            " -1.4049197e-03 -1.9049532e-03 -1.1490833e-03 -3.2594264e-04\n",
            " -7.8721769e-04 -2.5946668e-03 -6.0526514e-04  9.3661918e-04\n",
            "  5.8702513e-04  3.1111998e-04 -5.1438244e-04  4.9440534e-04\n",
            " -1.7251119e-03  5.4227427e-04 -7.4013631e-04 -4.8912101e-04\n",
            " -1.3722111e-03  2.1129930e-03  1.4438890e-03 -1.0972627e-03]\n"
          ]
        }
      ]
    }
  ]
}