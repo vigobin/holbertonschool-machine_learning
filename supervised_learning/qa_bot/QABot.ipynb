{
  "nbformat": 4,
  "nbformat_minor": 0,
  "metadata": {
    "colab": {
      "provenance": []
    },
    "kernelspec": {
      "name": "python3",
      "display_name": "Python 3"
    },
    "language_info": {
      "name": "python"
    }
  },
  "cells": [
    {
      "cell_type": "code",
      "source": [
        "import tensorflow as tf\n",
        "import tensorflow_hub as hub\n",
        "from transformers import BertTokenizer"
      ],
      "metadata": {
        "id": "Z0mpDzr1tTU3"
      },
      "execution_count": 2,
      "outputs": []
    },
    {
      "cell_type": "code",
      "execution_count": 35,
      "metadata": {
        "id": "Uazr8utltNvv"
      },
      "outputs": [],
      "source": [
        "\"\"\"Question Answering\"\"\"\n",
        "\n",
        "def question_answer(question, reference):\n",
        "    \"\"\"Finds a snippet of text within a reference document to answer\n",
        "        a question:\n",
        "        question is a string containing the question to answer.\n",
        "        reference is a string containing the reference document from which to\n",
        "            find the answer.\n",
        "        Returns: a string containing the answer.\n",
        "        If no answer is found, return None.\n",
        "        Your function should use the bert-uncased-tf2-qa model from the\n",
        "            tensorflow-hub library.\n",
        "        Your function should use the pre-trained BertTokenizer,\n",
        "            bert-large-uncased-whole-word-masking-finetuned-squad,\n",
        "            from the transformers library.\"\"\"\n",
        "    model = hub.load('https://tfhub.dev/see--/bert-uncased-tf2-qa/1')\n",
        "    tokenizer = BertTokenizer.from_pretrained(\n",
        "        'bert-large-uncased-whole-word-masking-finetuned-squad')\n",
        "\n",
        "    input_ids = tokenizer.encode(question, reference)\n",
        "    input_mask = [1] * len(input_ids)\n",
        "    input_type_ids = [0 if i < input_ids.index(102) else 1\n",
        "                      for i in range(len(input_ids))]\n",
        "\n",
        "    input_ids = tf.constant([input_ids])\n",
        "    input_mask = tf.constant([input_mask])\n",
        "    input_type_ids = tf.constant([input_type_ids])\n",
        "\n",
        "    outputs = model([input_ids, input_mask, input_type_ids])\n",
        "    start_index = tf.argmax(outputs[0][0][1:]) + 1\n",
        "    end_index = tf.argmax(outputs[1][0][1:]) + 2\n",
        "\n",
        "    answer_tokens = tokenizer.convert_ids_to_tokens(\n",
        "        input_ids[0][start_index:end_index])\n",
        "    answer = tokenizer.convert_tokens_to_string(answer_tokens)\n",
        "\n",
        "    if answer == '[CLS]':\n",
        "        return None\n",
        "\n",
        "    return answer"
      ]
    },
    {
      "cell_type": "code",
      "source": [
        "file_url = '/content/drive/MyDrive/Colab Notebooks/data'"
      ],
      "metadata": {
        "id": "CwYNjEB9t5ok"
      },
      "execution_count": 19,
      "outputs": []
    },
    {
      "cell_type": "code",
      "source": [
        "# question_answer = __import__('0-qa').question_answer\n",
        "\n",
        "with open('/content/drive/MyDrive/Colab Notebooks/data/ZendeskArticles/PeerLearningDays.md') as f:\n",
        "    reference = f.read()\n",
        "\n",
        "print(question_answer('When are PLDs?', reference))"
      ],
      "metadata": {
        "colab": {
          "base_uri": "https://localhost:8080/"
        },
        "id": "w0JDoLCFttxz",
        "outputId": "60fa5289-9a4c-4866-8c44-83aff11fed46"
      },
      "execution_count": 36,
      "outputs": [
        {
          "output_type": "stream",
          "name": "stdout",
          "text": [
            "on - site days from 9 : 00 am to 3 : 00 pm\n"
          ]
        }
      ]
    },
    {
      "cell_type": "code",
      "source": [
        "\"\"\"Create the loop\"\"\"\n",
        "\n",
        "while True:\n",
        "    user_input = input('Q: ')\n",
        "    if user_input.lower() in ['exit', 'quit', 'goodbye', 'bye']:\n",
        "        print('A: Goodbye')\n",
        "        break\n",
        "    else:\n",
        "        print('A: ')\n"
      ],
      "metadata": {
        "colab": {
          "base_uri": "https://localhost:8080/"
        },
        "id": "JV7_whyc1J6l",
        "outputId": "c1c23228-ca09-4acf-dd10-d953affd2cc1"
      },
      "execution_count": 1,
      "outputs": [
        {
          "output_type": "stream",
          "name": "stdout",
          "text": [
            "Q: a\n",
            "A: \n",
            "Q: hdeohoe\n",
            "A: \n",
            "Q: How\n",
            "A: \n",
            "Q: exit\n",
            "A: Goodbye\n"
          ]
        }
      ]
    },
    {
      "cell_type": "code",
      "source": [
        "\"\"\"Answer Questions\"\"\"\n",
        "\n",
        "def answer_loop(reference):\n",
        "    \"\"\"Answers questions from a reference text:\n",
        "        reference is the reference text.\n",
        "        If the answer cannot be found in the reference text,\n",
        "        respond with Sorry, I do not understand your question.\"\"\"\n",
        "    model = hub.load('https://tfhub.dev/see--/bert-uncased-tf2-qa/1')\n",
        "    tokenizer = BertTokenizer.from_pretrained(\n",
        "        'bert-large-uncased-whole-word-masking-finetuned-squad')\n",
        "\n",
        "    while True:\n",
        "        question = input('Q: ')\n",
        "        if question.lower() in [\"exit\", \"quit\", \"goodbye\", \"bye\"]:\n",
        "            print(\"A: Goodbye\")\n",
        "            break\n",
        "\n",
        "        input_ids = tokenizer.encode(question, reference)\n",
        "        input_mask = [1] * len(input_ids)\n",
        "        input_type_ids = [0 if i < input_ids.index(102) else 1\n",
        "                        for i in range(len(input_ids))]\n",
        "\n",
        "        input_ids = tf.constant([input_ids])\n",
        "        input_mask = tf.constant([input_mask])\n",
        "        input_type_ids = tf.constant([input_type_ids])\n",
        "\n",
        "        outputs = model([input_ids, input_mask, input_type_ids])\n",
        "        start_index = tf.argmax(outputs[0][0][1:]) + 1\n",
        "        end_index = tf.argmax(outputs[1][0][1:]) + 2\n",
        "\n",
        "        answer_tokens = tokenizer.convert_ids_to_tokens(\n",
        "            input_ids[0][start_index:end_index])\n",
        "        answer = tokenizer.convert_tokens_to_string(answer_tokens)\n",
        "\n",
        "        if answer:\n",
        "            print('A: ' + answer)\n",
        "        else:\n",
        "            print('A: Sorry, I do not understand your question.')"
      ],
      "metadata": {
        "id": "hGKwdPOm1XHf"
      },
      "execution_count": 31,
      "outputs": []
    },
    {
      "cell_type": "code",
      "source": [
        "# answer_loop = __import__('2-qa').answer_loop\n",
        "\n",
        "with open('/content/drive/MyDrive/Colab Notebooks/data/ZendeskArticles/PeerLearningDays.md') as f:\n",
        "    reference = f.read()\n",
        "\n",
        "answer_loop(reference)"
      ],
      "metadata": {
        "colab": {
          "base_uri": "https://localhost:8080/"
        },
        "id": "BN5IIDy3p7vX",
        "outputId": "2f3e1bef-4f6f-494e-caef-76ac2c4fc63d"
      },
      "execution_count": 32,
      "outputs": [
        {
          "output_type": "stream",
          "name": "stdout",
          "text": [
            "Q: When are PLDs?\n",
            "A: on - site days from 9 : 00 am to 3 : 00 pm\n",
            "Q: What are Mock Interviews?\n",
            "A: Sorry, I do not understand your question.\n",
            "Q: What does PLD stand for?\n",
            "A: peer learning days\n",
            "Q: EXIT\n",
            "A: Goodbye\n"
          ]
        }
      ]
    },
    {
      "cell_type": "code",
      "source": [
        "import numpy as np\n",
        "import os\n",
        "from sklearn.metrics.pairwise import cosine_similarity\n",
        "from sklearn.feature_extraction.text import TfidfVectorizer"
      ],
      "metadata": {
        "id": "nKtC8v-_7-Z7"
      },
      "execution_count": 7,
      "outputs": []
    },
    {
      "cell_type": "code",
      "source": [
        "\"\"\"Semantic Search\"\"\"\n",
        "\n",
        "def semantic_search(corpus_path, sentence):\n",
        "    \"\"\"Performs semantic search on a corpus of documents:\n",
        "        corpus_path is the path to the corpus of reference documents on which\n",
        "            to perform semantic search.\n",
        "        sentence is the sentence from which to perform semantic search.\n",
        "        Returns: the reference text of the document most similar to\n",
        "            sentence.\"\"\"\n",
        "    corpus_sentences = []\n",
        "    for filename in os.listdir(corpus_path):\n",
        "        if filename.endswith('.md'):\n",
        "            with open(os.path.join(\n",
        "                    corpus_path, filename), 'r', encoding='utf-8') as file:\n",
        "                corpus_sentences.append(file.read())\n",
        "\n",
        "    corpus_sentences.append(sentence)\n",
        "\n",
        "    vectorizer = TfidfVectorizer()\n",
        "    corpus_embeddings = vectorizer.fit_transform(corpus_sentences)\n",
        "\n",
        "    similarities = cosine_similarity(\n",
        "        corpus_embeddings[-1:], corpus_embeddings[:-1])\n",
        "\n",
        "    most_similar_index = similarities.argmax()\n",
        "\n",
        "    return corpus_sentences[most_similar_index]"
      ],
      "metadata": {
        "id": "1IS_zmmX6w0U"
      },
      "execution_count": 21,
      "outputs": []
    },
    {
      "cell_type": "code",
      "source": [
        "# semantic_search = __import__('3-semantic_search').semantic_search\n",
        "\n",
        "print(semantic_search('/content/drive/MyDrive/Colab Notebooks/data/ZendeskArticles', 'When are PLDs?'))"
      ],
      "metadata": {
        "colab": {
          "base_uri": "https://localhost:8080/"
        },
        "id": "aqNk8UGH8BkD",
        "outputId": "d5076ebe-76f3-4056-f5af-5bf08f9b4fa2"
      },
      "execution_count": 22,
      "outputs": [
        {
          "output_type": "stream",
          "name": "stdout",
          "text": [
            "PLD Overview\n",
            "Peer Learning Days (PLDs) are a time for you and your peers to ensure that each of you understands the concepts you've encountered in your projects, as well as a time for everyone to collectively grow in technical, professional, and soft skills. During PLD, you will collaboratively review prior projects with a group of cohort peers.\n",
            "PLD Basics\n",
            "PLDs are mandatory on-site days from 9:00 AM to 3:00 PM. If you cannot be present or on time, you must use a PTO. \n",
            "No laptops, tablets, or screens are allowed until all tasks have been whiteboarded and understood by the entirety of your group. This time is for whiteboarding, dialogue, and active peer collaboration. After this, you may return to computers with each other to pair or group program. \n",
            "Peer Learning Days are not about sharing solutions. This doesn't empower peers with the ability to solve problems themselves! Peer learning is when you share your thought process, whether through conversation, whiteboarding, debugging, or live coding. \n",
            "When a peer has a question, rather than offering the solution, ask the following:\n",
            "\"How did you come to that conclusion?\"\n",
            "\"What have you tried?\"\n",
            "\"Did the man page give you a lead?\"\n",
            "\"Did you think about this concept?\"\n",
            "Modeling this form of thinking for one another is invaluable and will strengthen your entire cohort.\n",
            "Your ability to articulate your knowledge is a crucial skill and will be required to succeed during technical interviews and through your career. \n",
            "\n"
          ]
        }
      ]
    },
    {
      "cell_type": "code",
      "source": [
        "\"\"\"Multi-reference Question Answering\"\"\"\n",
        "def question_answer(corpus_path):\n",
        "    \"\"\"Answers questions from multiple reference texts:\n",
        "        corpus_path is the path to the corpus of reference documents.\"\"\"\n",
        "    model = hub.load('https://tfhub.dev/see--/bert-uncased-tf2-qa/1')\n",
        "    tokenizer = BertTokenizer.from_pretrained(\n",
        "        'bert-large-uncased-whole-word-masking-finetuned-squad')\n",
        "\n",
        "    while True:\n",
        "        question = input('Q: ')\n",
        "        if question.lower() in [\"exit\", \"quit\", \"goodbye\", \"bye\"]:\n",
        "            print(\"A: Goodbye\")\n",
        "            break\n",
        "\n",
        "        reference = semantic_search(corpus_path, question)\n",
        "        input_ids = tokenizer.encode(question, reference)\n",
        "        input_mask = [1] * len(input_ids)\n",
        "        input_type_ids = [0 if i < input_ids.index(102) else 1\n",
        "                        for i in range(len(input_ids))]\n",
        "\n",
        "        input_ids = tf.constant([input_ids])\n",
        "        input_mask = tf.constant([input_mask])\n",
        "        input_type_ids = tf.constant([input_type_ids])\n",
        "\n",
        "        outputs = model([input_ids, input_mask, input_type_ids])\n",
        "        start_index = tf.argmax(outputs[0][0][1:]) + 1\n",
        "        end_index = tf.argmax(outputs[1][0][1:]) + 2\n",
        "\n",
        "        answer_tokens = tokenizer.convert_ids_to_tokens(\n",
        "            input_ids[0][start_index:end_index])\n",
        "        answer = tokenizer.convert_tokens_to_string(answer_tokens)\n",
        "\n",
        "        if answer:\n",
        "            print('A: ' + answer)\n",
        "        else:\n",
        "            print('A: Sorry, I do not understand your question.')"
      ],
      "metadata": {
        "id": "v1BM0JPVFQHX"
      },
      "execution_count": 23,
      "outputs": []
    },
    {
      "cell_type": "code",
      "source": [
        "# question_answer = __import__('4-qa').question_answer\n",
        "\n",
        "question_answer('/content/drive/MyDrive/Colab Notebooks/data/ZendeskArticles')"
      ],
      "metadata": {
        "colab": {
          "base_uri": "https://localhost:8080/"
        },
        "id": "ja3EA85qJt9r",
        "outputId": "f081c512-6ec9-4f3e-bf9e-3aebafcb0623"
      },
      "execution_count": 24,
      "outputs": [
        {
          "output_type": "stream",
          "name": "stdout",
          "text": [
            "Q: When are PLDs?\n",
            "A: on - site days from 9 : 00 am to 3 : 00 pm\n",
            "Q: What are Mock Interviews?\n",
            "A: help you train for technical interviews\n",
            "Q: What does PLD stand for?\n",
            "A: stand up\n",
            "Q: goodbye\n",
            "A: Goodbye\n"
          ]
        }
      ]
    }
  ]
}