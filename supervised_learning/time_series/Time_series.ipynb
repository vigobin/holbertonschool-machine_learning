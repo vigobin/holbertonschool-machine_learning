{
  "nbformat": 4,
  "nbformat_minor": 0,
  "metadata": {
    "colab": {
      "provenance": []
    },
    "kernelspec": {
      "name": "python3",
      "display_name": "Python 3"
    },
    "language_info": {
      "name": "python"
    }
  },
  "cells": [
    {
      "cell_type": "code",
      "execution_count": 1,
      "metadata": {
        "id": "h9vzKgOwvwqa"
      },
      "outputs": [],
      "source": [
        "import pandas as pd\n",
        "import numpy as np\n",
        "import matplotlib.pyplot as plt\n",
        "import tensorflow as tf\n",
        "from tensorflow.keras.models import Sequential\n",
        "from tensorflow.keras.layers import Dense, LSTM\n",
        "from tensorflow.keras.losses import MeanSquaredError\n",
        "from tensorflow.keras.callbacks import EarlyStopping\n",
        "from tensorflow.data import Dataset\n",
        "from sklearn.preprocessing import MinMaxScaler\n",
        "from sklearn.model_selection import train_test_split"
      ]
    },
    {
      "cell_type": "code",
      "source": [
        "COINBASE = '/content/drive/MyDrive/Colab Notebooks/data/coinbase.csv'\n",
        "BITSTAMP = '/content/drive/MyDrive/Colab Notebooks/data/bitstamp.csv'"
      ],
      "metadata": {
        "id": "eo20J6PRFup-"
      },
      "execution_count": 2,
      "outputs": []
    },
    {
      "cell_type": "code",
      "source": [
        "def preprocess_data(data):\n",
        "    # Select only the 'Timestamp' and 'Weighted_Price' columns\n",
        "    data = data[['Timestamp', 'Weighted_Price']].copy()\n",
        "\n",
        "    # Convert Unix time to datetime\n",
        "    data.loc[:, 'Timestamp'] = pd.to_datetime(data['Timestamp'], unit='s')\n",
        "\n",
        "    # Set datetime as index\n",
        "    data.set_index('Timestamp', inplace=True)\n",
        "\n",
        "    # Drop any NaN values\n",
        "    data.dropna(inplace=True)\n",
        "\n",
        "    # Resample data to hourly intervals\n",
        "    data = data.resample('H').mean()\n",
        "\n",
        "    # Rescale the data\n",
        "    scaler = MinMaxScaler()\n",
        "    data.loc[:, :] = scaler.fit_transform(data)\n",
        "\n",
        "    return data\n",
        "\n",
        "def main():\n",
        "    # Load the data\n",
        "    coinbase_data = pd.read_csv(COINBASE)\n",
        "    bitstamp_data = pd.read_csv(BITSTAMP)\n",
        "\n",
        "    # Preprocess the data\n",
        "    coinbase_data = preprocess_data(coinbase_data)\n",
        "    bitstamp_data = preprocess_data(bitstamp_data)\n",
        "\n",
        "    # Save the preprocessed data\n",
        "    coinbase_data.to_csv('coinbase_preprocessed.csv', index=True)\n",
        "    bitstamp_data.to_csv('bitstamp_preprocessed.csv', index=True)\n",
        "\n",
        "if __name__ == \"__main__\":\n",
        "    main()"
      ],
      "metadata": {
        "id": "wbxPgHGdyi9f"
      },
      "execution_count": 3,
      "outputs": []
    },
    {
      "cell_type": "code",
      "source": [
        "def create_dataset(data, look_back=24):\n",
        "    X, Y = [], []\n",
        "    for i in range(len(data)-look_back-1):\n",
        "        X.append(data[i:(i+look_back)])\n",
        "        Y.append(data[i + look_back])\n",
        "    return np.array(X), np.array(Y)\n",
        "\n",
        "def main():\n",
        "    # Load the preprocessed data\n",
        "    coinbase_data = pd.read_csv('coinbase_preprocessed.csv', index_col='Timestamp', parse_dates=True)\n",
        "    bitstamp_data = pd.read_csv('bitstamp_preprocessed.csv', index_col='Timestamp', parse_dates=True)\n",
        "\n",
        "    # Create the dataset\n",
        "    X, Y = create_dataset(coinbase_data.values)\n",
        "\n",
        "    # Split the data into training and test sets\n",
        "    X_train, X_test, Y_train, Y_test = train_test_split(X, Y, test_size=0.2, random_state=42)\n",
        "\n",
        "    # Convert the data to tf.data.Dataset\n",
        "    train_data = tf.data.Dataset.from_tensor_slices((X_train, Y_train))\n",
        "    test_data = tf.data.Dataset.from_tensor_slices((X_test, Y_test))\n",
        "\n",
        "    # Create the model\n",
        "    model = Sequential()\n",
        "    model.add(LSTM(50, input_shape=(X.shape[1], X.shape[2])))\n",
        "    model.add(Dense(1))\n",
        "\n",
        "    # Compile the model\n",
        "    model.compile(optimizer='adam', loss=MeanSquaredError())\n",
        "\n",
        "    # Train the model\n",
        "    history = model.fit(train_data.batch(10), epochs=10, verbose=2, validation_data=test_data.batch(10))\n",
        "\n",
        "    # Plot the training loss\n",
        "    plt.plot(history.history['loss'])\n",
        "    plt.plot(history.history['val_loss'])\n",
        "    plt.title('Model loss')\n",
        "    plt.ylabel('Loss')\n",
        "    plt.xlabel('Epoch')\n",
        "    plt.legend(['Train', 'Test'], loc='upper right')\n",
        "    plt.show()\n",
        "\n",
        "    # Evaluate the model\n",
        "    test_loss = model.evaluate(test_data.batch(10))\n",
        "    print(f'Test Loss: {test_loss}')\n",
        "\n",
        "if __name__ == \"__main__\":\n",
        "    main()"
      ],
      "metadata": {
        "colab": {
          "base_uri": "https://localhost:8080/",
          "height": 854
        },
        "id": "OYIjUU-c71j4",
        "outputId": "48dd29df-09e0-470d-c119-beef16d13095"
      },
      "execution_count": 14,
      "outputs": [
        {
          "output_type": "stream",
          "name": "stdout",
          "text": [
            "Epoch 1/10\n",
            "2876/2876 - 48s - loss: nan - val_loss: nan - 48s/epoch - 17ms/step\n",
            "Epoch 2/10\n",
            "2876/2876 - 36s - loss: nan - val_loss: nan - 36s/epoch - 13ms/step\n",
            "Epoch 3/10\n",
            "2876/2876 - 39s - loss: nan - val_loss: nan - 39s/epoch - 14ms/step\n",
            "Epoch 4/10\n",
            "2876/2876 - 38s - loss: nan - val_loss: nan - 38s/epoch - 13ms/step\n",
            "Epoch 5/10\n",
            "2876/2876 - 40s - loss: nan - val_loss: nan - 40s/epoch - 14ms/step\n",
            "Epoch 6/10\n",
            "2876/2876 - 36s - loss: nan - val_loss: nan - 36s/epoch - 13ms/step\n",
            "Epoch 7/10\n",
            "2876/2876 - 34s - loss: nan - val_loss: nan - 34s/epoch - 12ms/step\n",
            "Epoch 8/10\n",
            "2876/2876 - 35s - loss: nan - val_loss: nan - 35s/epoch - 12ms/step\n",
            "Epoch 9/10\n",
            "2876/2876 - 38s - loss: nan - val_loss: nan - 38s/epoch - 13ms/step\n",
            "Epoch 10/10\n",
            "2876/2876 - 35s - loss: nan - val_loss: nan - 35s/epoch - 12ms/step\n"
          ]
        },
        {
          "output_type": "display_data",
          "data": {
            "text/plain": [
              "<Figure size 640x480 with 1 Axes>"
            ],
            "image/png": "[encoded data removed]"
          },
          "metadata": {}
        },
        {
          "output_type": "stream",
          "name": "stdout",
          "text": [
            "719/719 [==============================] - 3s 5ms/step - loss: nan\n",
            "Test Loss: nan\n"
          ]
        }
      ]
    }
  ]
}